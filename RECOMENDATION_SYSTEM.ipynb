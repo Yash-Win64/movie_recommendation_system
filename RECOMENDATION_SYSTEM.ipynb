{
  "nbformat": 4,
  "nbformat_minor": 0,
  "metadata": {
    "colab": {
      "provenance": []
    },
    "kernelspec": {
      "name": "python3",
      "display_name": "Python 3"
    },
    "language_info": {
      "name": "python"
    }
  },
  "cells": [
    {
      "cell_type": "code",
      "execution_count": 13,
      "metadata": {
        "colab": {
          "base_uri": "https://localhost:8080/"
        },
        "id": "3rDoEMmrTO4S",
        "outputId": "37886dba-7fe5-4881-8ccf-602a5f1bd279"
      },
      "outputs": [
        {
          "output_type": "stream",
          "name": "stdout",
          "text": [
            "Requirement already satisfied: scikit-surprise in /usr/local/lib/python3.10/dist-packages (1.1.4)\n",
            "Requirement already satisfied: joblib>=1.2.0 in /usr/local/lib/python3.10/dist-packages (from scikit-surprise) (1.4.2)\n",
            "Requirement already satisfied: numpy>=1.19.5 in /usr/local/lib/python3.10/dist-packages (from scikit-surprise) (1.26.4)\n",
            "Requirement already satisfied: scipy>=1.6.0 in /usr/local/lib/python3.10/dist-packages (from scikit-surprise) (1.13.1)\n"
          ]
        }
      ],
      "source": [
        "!pip install scikit-surprise"
      ]
    },
    {
      "cell_type": "code",
      "source": [
        "\n",
        "# Import required libraries:\n",
        "import pandas as pd\n",
        "from surprise import Dataset, Reader, KNNBasic\n",
        "from surprise.model_selection import train_test_split\n",
        "from surprise import accuracy"
      ],
      "metadata": {
        "id": "WFkCCKnCUecz"
      },
      "execution_count": 14,
      "outputs": []
    },
    {
      "cell_type": "code",
      "source": [
        "\n",
        "!pip install joblib>=1.0.0"
      ],
      "metadata": {
        "id": "E6_2A5TwUk9-"
      },
      "execution_count": 15,
      "outputs": []
    },
    {
      "cell_type": "code",
      "source": [
        "\n",
        "# Load the data from the MovieLens dataset\n",
        "movies = pd.read_csv(\"movies.csv\")\n",
        "ratings = pd.read_csv(\"ratings.csv\")"
      ],
      "metadata": {
        "id": "JJLZUsDqVKfY"
      },
      "execution_count": 16,
      "outputs": []
    },
    {
      "cell_type": "code",
      "source": [
        "# Create a Surprise Dataset\n",
        "reader = Reader(rating_scale=(0.5, 5))\n",
        "data = Dataset.load_from_df(ratings[['userId', 'movieId', 'rating']], reader)\n",
        "\n",
        "# Split the data into training and testing sets\n",
        "trainset, testset = train_test_split(data, test_size=0.2)"
      ],
      "metadata": {
        "id": "Z8-HqaYnAxS9"
      },
      "execution_count": 17,
      "outputs": []
    },
    {
      "cell_type": "code",
      "source": [
        "# Build a user-based collaborative filtering model\n",
        "sim_options = {\n",
        "    'name': 'cosine',\n",
        "    'user_based': True,\n",
        "}\n",
        "model = KNNBasic(sim_options=sim_options)\n",
        "model.fit(trainset)"
      ],
      "metadata": {
        "id": "f_US-Kx_BPe_",
        "colab": {
          "base_uri": "https://localhost:8080/"
        },
        "outputId": "81da1dd5-e750-46ee-9ae5-103cc5c5f248"
      },
      "execution_count": 18,
      "outputs": [
        {
          "output_type": "stream",
          "name": "stdout",
          "text": [
            "Computing the cosine similarity matrix...\n",
            "Done computing similarity matrix.\n"
          ]
        },
        {
          "output_type": "execute_result",
          "data": {
            "text/plain": [
              "<surprise.prediction_algorithms.knns.KNNBasic at 0x7d42f3835000>"
            ]
          },
          "metadata": {},
          "execution_count": 18
        }
      ]
    },
    {
      "cell_type": "code",
      "source": [
        "# Make predictions on the test set\n",
        "predictions = model.test(testset)\n",
        "\n",
        "# Evaluate the model's performance\n",
        "rmse = accuracy.rmse(predictions)"
      ],
      "metadata": {
        "id": "n3ASXg1gBWXK",
        "colab": {
          "base_uri": "https://localhost:8080/"
        },
        "outputId": "853ad006-df3b-4ca4-b88d-765f922d4eab"
      },
      "execution_count": 19,
      "outputs": [
        {
          "output_type": "stream",
          "name": "stdout",
          "text": [
            "RMSE: nan\n"
          ]
        }
      ]
    },
    {
      "cell_type": "code",
      "source": [
        "# Function to recommend movies for a given user\n",
        "def recommend_movies(user_id, n=10):\n",
        "    movies_watched = ratings[ratings['userId'] == user_id]['movieId'].tolist()\n",
        "    unrated_movies = movies[~movies['movieId'].isin(movies_watched)]\n",
        "\n",
        "    recommendations = []\n",
        "    for movie_id in unrated_movies['movieId']:\n",
        "        predicted_rating = model.predict(user_id, movie_id).est\n",
        "        recommendations.append((movie_id, predicted_rating))\n",
        "\n",
        "    recommendations.sort(key=lambda x: x[1], reverse=True)\n",
        "    top_n_recommendations = recommendations[:n]\n",
        "\n",
        "    recommended_movies = movies[movies['movieId'].isin([movie[0] for movie in top_n_recommendations])]\n",
        "    return recommended_movies[['movieId', 'title']]"
      ],
      "metadata": {
        "id": "PJA-CsxoBXlr"
      },
      "execution_count": 20,
      "outputs": []
    },
    {
      "cell_type": "code",
      "source": [
        "# Example_1:\n",
        "user_id = 1\n",
        "recommended_movies = recommend_movies(user_id, n=10)\n",
        "print(f\"Top 10 recommended movies for User {user_id}:\")\n",
        "print(recommended_movies)"
      ],
      "metadata": {
        "id": "1cym9X7sEI7F",
        "colab": {
          "base_uri": "https://localhost:8080/"
        },
        "outputId": "5625768a-6988-4b22-b7af-40088fcd1dc8"
      },
      "execution_count": 21,
      "outputs": [
        {
          "output_type": "stream",
          "name": "stdout",
          "text": [
            "Top 10 recommended movies for User 1:\n",
            "      movieId                                             title\n",
            "380       385                    Man of No Importance, A (1994)\n",
            "385       390               Faster Pussycat! Kill! Kill! (1965)\n",
            "483       488                               M. Butterfly (1993)\n",
            "613       621                         My Favorite Season (1993)\n",
            "690       705                                       Cosi (1996)\n",
            "943       964                       Angel and the Badman (1947)\n",
            "952       973                              Meet John Doe (1941)\n",
            "1026     1050                        Looking for Richard (1996)\n",
            "1295     1329  Blood for Dracula (Andy Warhol's Dracula) (1974)\n",
            "1421     1463                           That Old Feeling (1997)\n"
          ]
        }
      ]
    },
    {
      "cell_type": "code",
      "source": [
        "# Example_2:\n",
        "user_id = 5\n",
        "recommended_movies = recommend_movies(user_id, n=10)\n",
        "print(f\"Top 10 recommended movies for User {user_id}:\")\n",
        "print(recommended_movies)"
      ],
      "metadata": {
        "id": "3HdEU6WSEK9Z",
        "colab": {
          "base_uri": "https://localhost:8080/"
        },
        "outputId": "5b841446-3b36-4db0-abb1-2b4880e79436"
      },
      "execution_count": 22,
      "outputs": [
        {
          "output_type": "stream",
          "name": "stdout",
          "text": [
            "Top 10 recommended movies for User 5:\n",
            "      movieId                                title\n",
            "380       385       Man of No Importance, A (1994)\n",
            "385       390  Faster Pussycat! Kill! Kill! (1965)\n",
            "483       488                  M. Butterfly (1993)\n",
            "610       618                      Two Much (1995)\n",
            "613       621            My Favorite Season (1993)\n",
            "640       651                Superweib, Das (1996)\n",
            "690       705                          Cosi (1996)\n",
            "943       964          Angel and the Badman (1947)\n",
            "952       973                 Meet John Doe (1941)\n",
            "1026     1050           Looking for Richard (1996)\n"
          ]
        }
      ]
    },
    {
      "cell_type": "code",
      "source": [
        "# Example_3:\n",
        "user_id = 10\n",
        "recommended_movies = recommend_movies(user_id, n=5)\n",
        "print(f\"Top 5 recommended movies for User {user_id}:\")\n",
        "print(recommended_movies)"
      ],
      "metadata": {
        "id": "yeSO4BjhELx2",
        "colab": {
          "base_uri": "https://localhost:8080/"
        },
        "outputId": "0a074834-bdae-428c-b150-29f32ebe2ef2"
      },
      "execution_count": 23,
      "outputs": [
        {
          "output_type": "stream",
          "name": "stdout",
          "text": [
            "Top 5 recommended movies for User 10:\n",
            "     movieId                                title\n",
            "380      385       Man of No Importance, A (1994)\n",
            "385      390  Faster Pussycat! Kill! Kill! (1965)\n",
            "483      488                  M. Butterfly (1993)\n",
            "574      582        Métisse (Café au Lait) (1993)\n",
            "613      621            My Favorite Season (1993)\n"
          ]
        }
      ]
    }
  ]
}